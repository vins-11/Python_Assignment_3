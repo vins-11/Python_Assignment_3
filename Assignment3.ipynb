{
 "cells": [
  {
   "cell_type": "markdown",
   "id": "f8a020d7",
   "metadata": {},
   "source": [
    "#### Ques 1. Write a Python function to find the Max of three numbers."
   ]
  },
  {
   "cell_type": "code",
   "execution_count": 3,
   "id": "41beef96",
   "metadata": {},
   "outputs": [
    {
     "name": "stdout",
     "output_type": "stream",
     "text": [
      "600\n"
     ]
    }
   ],
   "source": [
    "a = 100\n",
    "b = 600\n",
    "c = 234\n",
    "print(max(a, b, c))"
   ]
  },
  {
   "cell_type": "markdown",
   "id": "c4246fa7",
   "metadata": {},
   "source": [
    "#### Ques 2. Write a Python function to multiply all the numbers in a list"
   ]
  },
  {
   "cell_type": "code",
   "execution_count": 5,
   "id": "8c3c68f1",
   "metadata": {},
   "outputs": [
    {
     "data": {
      "text/plain": [
       "10080"
      ]
     },
     "execution_count": 5,
     "metadata": {},
     "output_type": "execute_result"
    }
   ],
   "source": [
    "from functools import reduce\n",
    "multi_list = reduce(lambda n, i: n*i,(2,5,6,7,2,3,4))\n",
    "multi_list"
   ]
  },
  {
   "cell_type": "markdown",
   "id": "89549d89",
   "metadata": {},
   "source": [
    "#### Ques 3. Write a Python function that accepts a string and calculate the number of upper case letters and lower case letters"
   ]
  },
  {
   "cell_type": "code",
   "execution_count": 9,
   "id": "c6d0199d",
   "metadata": {},
   "outputs": [
    {
     "name": "stdout",
     "output_type": "stream",
     "text": [
      "String :  Hello, I am Vinita Suthar.\n",
      "Upper case characters in String :  4\n",
      "Lower case Characters in String:  16\n"
     ]
    }
   ],
   "source": [
    "def string_test(s):\n",
    "    d={\"UPPER_CASE\":0, \"LOWER_CASE\":0}\n",
    "    for c in s:\n",
    "        if c.isupper():\n",
    "           d[\"UPPER_CASE\"]+=1\n",
    "        elif c.islower():\n",
    "           d[\"LOWER_CASE\"]+=1\n",
    "        else:\n",
    "           pass\n",
    "    print (\"String : \", s)\n",
    "    print (\"Upper case characters in String : \", d[\"UPPER_CASE\"])\n",
    "    print (\"Lower case Characters in String: \", d[\"LOWER_CASE\"])\n",
    "\n",
    "string_test('Hello, I am Vinita Suthar.')"
   ]
  },
  {
   "cell_type": "markdown",
   "id": "218eb7e9",
   "metadata": {},
   "source": [
    "#### Ques 4. Write a Python function that checks whether a passed string is palindrome or not"
   ]
  },
  {
   "cell_type": "code",
   "execution_count": 19,
   "id": "629910a7",
   "metadata": {},
   "outputs": [
    {
     "name": "stdout",
     "output_type": "stream",
     "text": [
      "x is palindrome\n",
      "y is not palindrome\n"
     ]
    }
   ],
   "source": [
    "x = \"viv\"\n",
    "y = \"viniv\"\n",
    "w = \"\"\n",
    "for i in x:\n",
    "    w = i + w\n",
    "\n",
    "if (x == w):\n",
    "    print(\"x is palindrome\")\n",
    "else:\n",
    "    print(\"x is not palindrome\")\n",
    "\n",
    "if (y == w):\n",
    "    print(\"y is palindrome\")\n",
    "else:\n",
    "    print(\"y is not palindrome\")\n"
   ]
  },
  {
   "cell_type": "markdown",
   "id": "3b17d9b7",
   "metadata": {},
   "source": [
    "#### Ques 5. Write a Python program to print the even numbers from a given list."
   ]
  },
  {
   "cell_type": "code",
   "execution_count": 21,
   "id": "ebcb3860",
   "metadata": {},
   "outputs": [
    {
     "name": "stdout",
     "output_type": "stream",
     "text": [
      "12 22 334 22 456 78 0 66 4 "
     ]
    }
   ],
   "source": [
    "list1 = [12,22,334,21,33,22,456,78,9,0,66,4]\n",
    "\n",
    "for num in list1:\n",
    "    if num % 2 == 0:\n",
    "        print(num, end = \" \")\n"
   ]
  }
 ],
 "metadata": {
  "kernelspec": {
   "display_name": "Python 3",
   "language": "python",
   "name": "python3"
  },
  "language_info": {
   "codemirror_mode": {
    "name": "ipython",
    "version": 3
   },
   "file_extension": ".py",
   "mimetype": "text/x-python",
   "name": "python",
   "nbconvert_exporter": "python",
   "pygments_lexer": "ipython3",
   "version": "3.8.8"
  }
 },
 "nbformat": 4,
 "nbformat_minor": 5
}
